{
 "cells": [
  {
   "cell_type": "markdown",
   "metadata": {},
   "source": [
    "# Breast Cancer Analysis "
   ]
  },
  {
   "cell_type": "markdown",
   "metadata": {},
   "source": [
    "# Downloading Libraries"
   ]
  },
  {
   "cell_type": "code",
   "execution_count": null,
   "metadata": {},
   "outputs": [],
   "source": [
    "import pandas as pd\n",
    "import numpy as np\n",
    "import matplotlib.pyplot as plt\n",
    "import seaborn as sns\n",
    "import calmap"
   ]
  },
  {
   "cell_type": "markdown",
   "metadata": {},
   "source": [
    "Link to datasource: https://www.kaggle.com/datasets/nancyalaswad90/breast-cancer-dataset/data\n",
    "\n",
    "**Context**\n",
    "\n",
    "This project utilizes a breast cancer dataset from Kaggle from the University of Wisconsin Clinical Sciences\n",
    "Center. The authors who published this data set took the data from the University of California Irvine - Machine Learning\n",
    "Repository. (Link to source: https://data.world/health/breast-cancer-wisconsin)\n",
    "\n",
    "The objective of this project is to find correlations between tumors and their size and texture (smoothness) \n",
    " To determine whether or not the tumor is benign (not cancerous) or malignant (cancerous). \n",
    "\n",
    "**File Dictionary**\n",
    "\n",
    "1. ***ID:*** Identification of the Patient \n",
    "\n",
    "2. ***Diagnosis:*** Diagnosis of the tumor, \"M\" for malignant/cancerous, \"B\" for benign/not cancerous\n",
    "\n",
    "3. ***Radius:*** Mean of the distances from the center to points on the perimeter\n",
    "\n",
    "4. ***Texture:*** Standard deviation of gray-scale values\n",
    "\n",
    "5. ***Perimeter:*** \n",
    "\n",
    "6. ***Area:*** \n",
    "\n",
    "7. ***Smoothness:*** Local variation in radius length\n",
    "\n",
    "8. ***Compactness:*** Calculated by perimeter^2 / area - 1.0\n",
    "\n",
    "9. ***Concavity:*** Severity of concave portions of the contour\n",
    "\n",
    "10. ***Concave Points:*** Number of concave portions of the contour\n",
    "\n",
    "11. ***Symmetry:*** \n",
    "\n",
    "12. ***Fractal Dimention:*** Coastline approximation\n",
    "\n"
   ]
  },
  {
   "cell_type": "markdown",
   "metadata": {},
   "source": []
  }
 ],
 "metadata": {
  "language_info": {
   "name": "python"
  }
 },
 "nbformat": 4,
 "nbformat_minor": 2
}
